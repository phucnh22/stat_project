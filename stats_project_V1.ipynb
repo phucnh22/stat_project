{
 "cells": [
  {
   "cell_type": "code",
   "execution_count": 2,
   "metadata": {},
   "outputs": [],
   "source": [
    "import numpy as np\n",
    "import pandas as pd\n",
    "import seaborn as sns\n",
    "import re\n",
    "import matplotlib.pyplot as plt\n",
    "from sklearn.impute import KNNImputer"
   ]
  },
  {
   "cell_type": "code",
   "execution_count": 3,
   "metadata": {},
   "outputs": [],
   "source": [
    "data = pd.read_csv('survey_final.csv',low_memory=False)"
   ]
  },
  {
   "cell_type": "code",
   "execution_count": 4,
   "metadata": {},
   "outputs": [
    {
     "data": {
      "text/html": [
       "<div>\n",
       "<style scoped>\n",
       "    .dataframe tbody tr th:only-of-type {\n",
       "        vertical-align: middle;\n",
       "    }\n",
       "\n",
       "    .dataframe tbody tr th {\n",
       "        vertical-align: top;\n",
       "    }\n",
       "\n",
       "    .dataframe thead th {\n",
       "        text-align: right;\n",
       "    }\n",
       "</style>\n",
       "<table border=\"1\" class=\"dataframe\">\n",
       "  <thead>\n",
       "    <tr style=\"text-align: right;\">\n",
       "      <th></th>\n",
       "      <th>Year</th>\n",
       "      <th>Hobbyist</th>\n",
       "      <th>ConvertedComp</th>\n",
       "      <th>Country</th>\n",
       "      <th>DatabaseDesireNextYear</th>\n",
       "      <th>DatabaseWorkedWith</th>\n",
       "      <th>DevType</th>\n",
       "      <th>EdLevel</th>\n",
       "      <th>Employment</th>\n",
       "      <th>JobSat</th>\n",
       "      <th>LanguageDesireNextYear</th>\n",
       "      <th>LanguageWorkedWith</th>\n",
       "      <th>OrgSize</th>\n",
       "      <th>UndergradMajor</th>\n",
       "      <th>YearsCodePro</th>\n",
       "    </tr>\n",
       "  </thead>\n",
       "  <tbody>\n",
       "    <tr>\n",
       "      <th>count</th>\n",
       "      <td>303591.000000</td>\n",
       "      <td>303546</td>\n",
       "      <td>1.511720e+05</td>\n",
       "      <td>302658</td>\n",
       "      <td>200167</td>\n",
       "      <td>216942</td>\n",
       "      <td>258928</td>\n",
       "      <td>289916</td>\n",
       "      <td>297748</td>\n",
       "      <td>225834</td>\n",
       "      <td>248070</td>\n",
       "      <td>257052</td>\n",
       "      <td>226578</td>\n",
       "      <td>248486</td>\n",
       "      <td>239473</td>\n",
       "    </tr>\n",
       "    <tr>\n",
       "      <th>unique</th>\n",
       "      <td>NaN</td>\n",
       "      <td>5</td>\n",
       "      <td>NaN</td>\n",
       "      <td>247</td>\n",
       "      <td>15642</td>\n",
       "      <td>11958</td>\n",
       "      <td>29323</td>\n",
       "      <td>23</td>\n",
       "      <td>8</td>\n",
       "      <td>20</td>\n",
       "      <td>73293</td>\n",
       "      <td>66267</td>\n",
       "      <td>13</td>\n",
       "      <td>33</td>\n",
       "      <td>84</td>\n",
       "    </tr>\n",
       "    <tr>\n",
       "      <th>top</th>\n",
       "      <td>NaN</td>\n",
       "      <td>Yes</td>\n",
       "      <td>NaN</td>\n",
       "      <td>United States</td>\n",
       "      <td>MySQL</td>\n",
       "      <td>MySQL</td>\n",
       "      <td>Developer, full-stack</td>\n",
       "      <td>Bachelor‚'s degree (BA, BS, B.Eng., etc.)</td>\n",
       "      <td>Employed full-time</td>\n",
       "      <td>Slightly satisfied</td>\n",
       "      <td>Python</td>\n",
       "      <td>Java</td>\n",
       "      <td>20 to 99 employees</td>\n",
       "      <td>Computer science, computer engineering, or sof...</td>\n",
       "      <td>0-2 years</td>\n",
       "    </tr>\n",
       "    <tr>\n",
       "      <th>freq</th>\n",
       "      <td>NaN</td>\n",
       "      <td>201542</td>\n",
       "      <td>NaN</td>\n",
       "      <td>65182</td>\n",
       "      <td>12150</td>\n",
       "      <td>17360</td>\n",
       "      <td>12857</td>\n",
       "      <td>43658</td>\n",
       "      <td>216353</td>\n",
       "      <td>48149</td>\n",
       "      <td>3825</td>\n",
       "      <td>3083</td>\n",
       "      <td>50379</td>\n",
       "      <td>129132</td>\n",
       "      <td>23421</td>\n",
       "    </tr>\n",
       "    <tr>\n",
       "      <th>mean</th>\n",
       "      <td>2018.548149</td>\n",
       "      <td>NaN</td>\n",
       "      <td>1.058168e+05</td>\n",
       "      <td>NaN</td>\n",
       "      <td>NaN</td>\n",
       "      <td>NaN</td>\n",
       "      <td>NaN</td>\n",
       "      <td>NaN</td>\n",
       "      <td>NaN</td>\n",
       "      <td>NaN</td>\n",
       "      <td>NaN</td>\n",
       "      <td>NaN</td>\n",
       "      <td>NaN</td>\n",
       "      <td>NaN</td>\n",
       "      <td>NaN</td>\n",
       "    </tr>\n",
       "    <tr>\n",
       "      <th>std</th>\n",
       "      <td>1.005437</td>\n",
       "      <td>NaN</td>\n",
       "      <td>2.347656e+05</td>\n",
       "      <td>NaN</td>\n",
       "      <td>NaN</td>\n",
       "      <td>NaN</td>\n",
       "      <td>NaN</td>\n",
       "      <td>NaN</td>\n",
       "      <td>NaN</td>\n",
       "      <td>NaN</td>\n",
       "      <td>NaN</td>\n",
       "      <td>NaN</td>\n",
       "      <td>NaN</td>\n",
       "      <td>NaN</td>\n",
       "      <td>NaN</td>\n",
       "    </tr>\n",
       "    <tr>\n",
       "      <th>min</th>\n",
       "      <td>2017.000000</td>\n",
       "      <td>NaN</td>\n",
       "      <td>0.000000e+00</td>\n",
       "      <td>NaN</td>\n",
       "      <td>NaN</td>\n",
       "      <td>NaN</td>\n",
       "      <td>NaN</td>\n",
       "      <td>NaN</td>\n",
       "      <td>NaN</td>\n",
       "      <td>NaN</td>\n",
       "      <td>NaN</td>\n",
       "      <td>NaN</td>\n",
       "      <td>NaN</td>\n",
       "      <td>NaN</td>\n",
       "      <td>NaN</td>\n",
       "    </tr>\n",
       "    <tr>\n",
       "      <th>25%</th>\n",
       "      <td>2018.000000</td>\n",
       "      <td>NaN</td>\n",
       "      <td>2.497200e+04</td>\n",
       "      <td>NaN</td>\n",
       "      <td>NaN</td>\n",
       "      <td>NaN</td>\n",
       "      <td>NaN</td>\n",
       "      <td>NaN</td>\n",
       "      <td>NaN</td>\n",
       "      <td>NaN</td>\n",
       "      <td>NaN</td>\n",
       "      <td>NaN</td>\n",
       "      <td>NaN</td>\n",
       "      <td>NaN</td>\n",
       "      <td>NaN</td>\n",
       "    </tr>\n",
       "    <tr>\n",
       "      <th>50%</th>\n",
       "      <td>2019.000000</td>\n",
       "      <td>NaN</td>\n",
       "      <td>5.499600e+04</td>\n",
       "      <td>NaN</td>\n",
       "      <td>NaN</td>\n",
       "      <td>NaN</td>\n",
       "      <td>NaN</td>\n",
       "      <td>NaN</td>\n",
       "      <td>NaN</td>\n",
       "      <td>NaN</td>\n",
       "      <td>NaN</td>\n",
       "      <td>NaN</td>\n",
       "      <td>NaN</td>\n",
       "      <td>NaN</td>\n",
       "      <td>NaN</td>\n",
       "    </tr>\n",
       "    <tr>\n",
       "      <th>75%</th>\n",
       "      <td>2019.000000</td>\n",
       "      <td>NaN</td>\n",
       "      <td>9.500000e+04</td>\n",
       "      <td>NaN</td>\n",
       "      <td>NaN</td>\n",
       "      <td>NaN</td>\n",
       "      <td>NaN</td>\n",
       "      <td>NaN</td>\n",
       "      <td>NaN</td>\n",
       "      <td>NaN</td>\n",
       "      <td>NaN</td>\n",
       "      <td>NaN</td>\n",
       "      <td>NaN</td>\n",
       "      <td>NaN</td>\n",
       "      <td>NaN</td>\n",
       "    </tr>\n",
       "    <tr>\n",
       "      <th>max</th>\n",
       "      <td>2020.000000</td>\n",
       "      <td>NaN</td>\n",
       "      <td>2.000000e+06</td>\n",
       "      <td>NaN</td>\n",
       "      <td>NaN</td>\n",
       "      <td>NaN</td>\n",
       "      <td>NaN</td>\n",
       "      <td>NaN</td>\n",
       "      <td>NaN</td>\n",
       "      <td>NaN</td>\n",
       "      <td>NaN</td>\n",
       "      <td>NaN</td>\n",
       "      <td>NaN</td>\n",
       "      <td>NaN</td>\n",
       "      <td>NaN</td>\n",
       "    </tr>\n",
       "  </tbody>\n",
       "</table>\n",
       "</div>"
      ],
      "text/plain": [
       "                 Year Hobbyist  ConvertedComp        Country  \\\n",
       "count   303591.000000   303546   1.511720e+05         302658   \n",
       "unique            NaN        5            NaN            247   \n",
       "top               NaN      Yes            NaN  United States   \n",
       "freq              NaN   201542            NaN          65182   \n",
       "mean      2018.548149      NaN   1.058168e+05            NaN   \n",
       "std          1.005437      NaN   2.347656e+05            NaN   \n",
       "min       2017.000000      NaN   0.000000e+00            NaN   \n",
       "25%       2018.000000      NaN   2.497200e+04            NaN   \n",
       "50%       2019.000000      NaN   5.499600e+04            NaN   \n",
       "75%       2019.000000      NaN   9.500000e+04            NaN   \n",
       "max       2020.000000      NaN   2.000000e+06            NaN   \n",
       "\n",
       "       DatabaseDesireNextYear DatabaseWorkedWith                DevType  \\\n",
       "count                  200167             216942                 258928   \n",
       "unique                  15642              11958                  29323   \n",
       "top                     MySQL              MySQL  Developer, full-stack   \n",
       "freq                    12150              17360                  12857   \n",
       "mean                      NaN                NaN                    NaN   \n",
       "std                       NaN                NaN                    NaN   \n",
       "min                       NaN                NaN                    NaN   \n",
       "25%                       NaN                NaN                    NaN   \n",
       "50%                       NaN                NaN                    NaN   \n",
       "75%                       NaN                NaN                    NaN   \n",
       "max                       NaN                NaN                    NaN   \n",
       "\n",
       "                                          EdLevel          Employment  \\\n",
       "count                                      289916              297748   \n",
       "unique                                         23                   8   \n",
       "top     Bachelor‚'s degree (BA, BS, B.Eng., etc.)  Employed full-time   \n",
       "freq                                        43658              216353   \n",
       "mean                                          NaN                 NaN   \n",
       "std                                           NaN                 NaN   \n",
       "min                                           NaN                 NaN   \n",
       "25%                                           NaN                 NaN   \n",
       "50%                                           NaN                 NaN   \n",
       "75%                                           NaN                 NaN   \n",
       "max                                           NaN                 NaN   \n",
       "\n",
       "                    JobSat LanguageDesireNextYear LanguageWorkedWith  \\\n",
       "count               225834                 248070             257052   \n",
       "unique                  20                  73293              66267   \n",
       "top     Slightly satisfied                 Python               Java   \n",
       "freq                 48149                   3825               3083   \n",
       "mean                   NaN                    NaN                NaN   \n",
       "std                    NaN                    NaN                NaN   \n",
       "min                    NaN                    NaN                NaN   \n",
       "25%                    NaN                    NaN                NaN   \n",
       "50%                    NaN                    NaN                NaN   \n",
       "75%                    NaN                    NaN                NaN   \n",
       "max                    NaN                    NaN                NaN   \n",
       "\n",
       "                   OrgSize                                     UndergradMajor  \\\n",
       "count               226578                                             248486   \n",
       "unique                  13                                                 33   \n",
       "top     20 to 99 employees  Computer science, computer engineering, or sof...   \n",
       "freq                 50379                                             129132   \n",
       "mean                   NaN                                                NaN   \n",
       "std                    NaN                                                NaN   \n",
       "min                    NaN                                                NaN   \n",
       "25%                    NaN                                                NaN   \n",
       "50%                    NaN                                                NaN   \n",
       "75%                    NaN                                                NaN   \n",
       "max                    NaN                                                NaN   \n",
       "\n",
       "       YearsCodePro  \n",
       "count        239473  \n",
       "unique           84  \n",
       "top       0-2 years  \n",
       "freq          23421  \n",
       "mean            NaN  \n",
       "std             NaN  \n",
       "min             NaN  \n",
       "25%             NaN  \n",
       "50%             NaN  \n",
       "75%             NaN  \n",
       "max             NaN  "
      ]
     },
     "execution_count": 4,
     "metadata": {},
     "output_type": "execute_result"
    }
   ],
   "source": [
    "data.describe(include='all')"
   ]
  },
  {
   "cell_type": "code",
   "execution_count": 5,
   "metadata": {},
   "outputs": [],
   "source": [
    "# Make all data field consistent betweem years\n",
    "data['EdLevel'].replace({\"Master's degree (M.A., M.S., M.Eng., MBA, etc.)\":\"Master's degree\",\n",
    "                          \"Bachelor's degree (B.A., B.S., B.Eng., etc.)\":\"Bachelor's degree\",\n",
    "                          \"Secondary school\": \"Secondary school\",\n",
    "                          \"Professional degree (JD, MD, etc.)\":\"Professional degree\",\n",
    "                          \"Some college/university study without earning a degree\":\"Some college/university study without earning a bachelor's degree\",\n",
    "                          \"Associate degree (A.A., A.S., etc.)\":\"Associate degree\", \n",
    "                          \"Other doctoral degree (Ph.D., Ed.D., etc.)\":\"Doctoral degree\",\n",
    "                          \"Bachelor's degree (BA, BS, B.Eng., etc.)\":\"Bachelor's degree\",\n",
    "                          \"Master's degree (MA, MS, M.Eng., MBA, etc.)\":\"Master's degree\",\n",
    "                          \"Other doctoral degree (Ph.D, Ed.D., etc.)\":\"Doctoral degree\",\n",
    "                          \"Bachelor‚'s degree (BA, BS, B.Eng., etc.)\":\"Bachelor's degree\",\n",
    "                          \"Master‚'s degree (MA, MS, M.Eng., MBA, etc.)\":\"Master's degree\",\n",
    "                          \"Secondary school (e.g. American high school, German Realschule or Gymnasium, etc.)\":\"Secondary school\", \n",
    "                          \" \":\"I prefer not to answer\",\n",
    "                          \"Full-stack developer\":\"I prefer not to answer\" }, inplace=True)\n",
    "\n",
    "data['OrgSize'].replace({'2-9 employees' : '2 to 9 employees',\n",
    "                        'Fewer than 10 employees': '2 to 9 employees'}, inplace = True)\n",
    "\n",
    "data['UndergradMajor'].replace({\"Computer science, computer engineering, or software engineering\":\"Computer science\",\n",
    "                                \"Another engineering discipline (such as civil, electrical, mechanical, etc.)\":\"Another engineering discipline\",\n",
    "                                \"A humanities discipline (such as literature, history, philosophy, etc.)\":\"Humanities\",\n",
    "                                \"A health science (such as nursing, pharmacy, radiology, etc.)\":\"Health science\",\n",
    "                                \"Information systems, information technology, or system administration\":\"Information systems\",\n",
    "                                \"A natural science (such as biology, chemistry, physics, etc.)\":\"Natural science\",\n",
    "                                \"Fine arts or performing arts (such as graphic design, music, studio art, etc.)\":\"Fine arts or performing arts\",\n",
    "                                \"A social science (such as anthropology, psychology, political science, etc.)\":\"Social science\",\n",
    "                                \"A business discipline (such as accounting, finance, marketing, etc.)\":\"Business\",\n",
    "                                \"Another engineering discipline (ex. civil, electrical, mechanical)\":\"Another engineering discipline\",\n",
    "                                \"A business discipline (ex. accounting, finance, marketing)\":\"Business\",\n",
    "                                \"A natural science (ex. biology, chemistry, physics)\":\"Natural science\",\n",
    "                                \"A social science (ex. anthropology, psychology, political science)\":\"Social science\",\n",
    "                                \"A humanities discipline (ex. literature, history, philosophy)\":\"Humanities\",\n",
    "                                \"Fine arts or performing arts (ex. graphic design, music, studio art)\":\"Fine arts or performing arts\",\n",
    "                                \"A health science (ex. nursing, pharmacy, radiology)\":\"Health science\",\n",
    "                                \"Computer science or software engineering\":\"Computer science\",\n",
    "                                \"A non-computer-focused engineering discipline\":\"Another engineering discipline\",\n",
    "                                \"A social science\":\"Social science\",\"A natural science\":\"Natural science\",\n",
    "                                \"A business discipline\":\"Business\",\"Information technology, networking, or system administration\":\"Information systems\",\"Fine arts or performing arts\":\"Fine arts or performing arts\",\"Management information systems\":\"Information systems\",\"A humanities discipline\":\"Humanities\",\"Psychology\":\"Social science\",\"A health science\":\"Health science\"}, inplace=True)\n",
    "\n",
    "def jobsat(x):\n",
    "    if (x == 'Extremely satisfied') | (x == 10):\n",
    "        return 9\n",
    "    elif x == 'Very satisfied':\n",
    "        return 8\n",
    "    elif x == 'Moderately satisfied':\n",
    "        return 7\n",
    "    elif x == 'Slightly satisfied':\n",
    "        return 6\n",
    "    elif x == 'Neither satisfied nor dissatisfied':\n",
    "        return 5\n",
    "    elif x == 'Slightly dissatisfied':\n",
    "        return 4\n",
    "    elif x == 'Moderately dissatisfied':\n",
    "        return 3\n",
    "    elif x == 'Very dissatisfied':\n",
    "        return 2\n",
    "    elif (x == 'Extremely dissatisfied') | (x == 0):\n",
    "        return 1\n",
    "    else:\n",
    "        return x\n",
    "\n",
    "data['JobSat'] = data['JobSat'].apply(jobsat)   \n",
    "\n",
    "\n",
    "def yearcodeconvert(x):\n",
    "    if type(x) == str:\n",
    "        a = re.findall('[0-9]+', x)\n",
    "        if len(a) == 2:\n",
    "            return int(a[1])\n",
    "        if int(a[0]) >=30:\n",
    "            return 30\n",
    "        else:\n",
    "            return int(x)\n",
    "    else:\n",
    "        return x\n",
    "data['YearsCodePro'].replace({'Less than 1 year':1,\n",
    "                              'Less than a year':1,\n",
    "                              '20 or more years':20,\n",
    "                              '30 or more years':30,\n",
    "                              'More than 50 years':30}, inplace = True)\n",
    "                             \n",
    "data['YearsCodePro'] = data['YearsCodePro'].apply(yearcodeconvert)"
   ]
  },
  {
   "cell_type": "code",
   "execution_count": 6,
   "metadata": {},
   "outputs": [],
   "source": [
    "# save data of each year for processing\n",
    "data_2017 = data[data['Year']==2017]\n",
    "data_2018 = data[data['Year']==2018]\n",
    "data_2019 = data[data['Year']==2019]\n",
    "data_2020 = data[data['Year']==2020]"
   ]
  },
  {
   "cell_type": "markdown",
   "metadata": {},
   "source": [
    "## DevType separation"
   ]
  },
  {
   "cell_type": "markdown",
   "metadata": {},
   "source": [
    "### 2017"
   ]
  },
  {
   "cell_type": "code",
   "execution_count": 7,
   "metadata": {},
   "outputs": [],
   "source": [
    "mask = data_2017['DevType'].str.contains(r'data|machine|business', case = False,na=False)\n",
    "df = data_2017[mask].copy()\n",
    "# remove all space at beginning of the text\n",
    "df['DevType'].replace('^\\s+', '', regex=True, inplace=True) #front\n",
    "# Split the text by semi colon\n",
    "split_2017 = df['DevType'].str.get_dummies(sep='; ')\n",
    "# as 2017 have different choice from 18,19 and 20, we will merge the choices to align it with the rest\n",
    "split_2017['Data scientist or machine learning specialist'] = split_2017['Data scientist'] | split_2017['Machine learning specialist']\n",
    "# Get the desired columns\n",
    "select_type_2017 = ['Data scientist or machine learning specialist',\n",
    "                   'Database administrator']\n",
    "candidate_2017 = (np.sum(split_2017.loc[:,select_type_2017],axis = 1) != 0).index"
   ]
  },
  {
   "cell_type": "code",
   "execution_count": 8,
   "metadata": {
    "scrolled": true
   },
   "outputs": [
    {
     "data": {
      "text/html": [
       "<div>\n",
       "<style scoped>\n",
       "    .dataframe tbody tr th:only-of-type {\n",
       "        vertical-align: middle;\n",
       "    }\n",
       "\n",
       "    .dataframe tbody tr th {\n",
       "        vertical-align: top;\n",
       "    }\n",
       "\n",
       "    .dataframe thead th {\n",
       "        text-align: right;\n",
       "    }\n",
       "</style>\n",
       "<table border=\"1\" class=\"dataframe\">\n",
       "  <thead>\n",
       "    <tr style=\"text-align: right;\">\n",
       "      <th></th>\n",
       "      <th>Data scientist</th>\n",
       "      <th>Database administrator</th>\n",
       "      <th>Desktop applications developer</th>\n",
       "      <th>DevOps specialist</th>\n",
       "      <th>Developer with a statistics or mathematics background</th>\n",
       "      <th>Embedded applications/devices developer</th>\n",
       "      <th>Graphic designer</th>\n",
       "      <th>Graphics programming</th>\n",
       "      <th>Machine learning specialist</th>\n",
       "      <th>Mobile developer</th>\n",
       "      <th>Other</th>\n",
       "      <th>Quality assurance engineer</th>\n",
       "      <th>Systems administrator</th>\n",
       "      <th>Web developer</th>\n",
       "      <th>Data scientist or machine learning specialist</th>\n",
       "    </tr>\n",
       "  </thead>\n",
       "  <tbody>\n",
       "    <tr>\n",
       "      <th>252218</th>\n",
       "      <td>1</td>\n",
       "      <td>0</td>\n",
       "      <td>0</td>\n",
       "      <td>0</td>\n",
       "      <td>0</td>\n",
       "      <td>0</td>\n",
       "      <td>0</td>\n",
       "      <td>0</td>\n",
       "      <td>0</td>\n",
       "      <td>0</td>\n",
       "      <td>1</td>\n",
       "      <td>0</td>\n",
       "      <td>0</td>\n",
       "      <td>0</td>\n",
       "      <td>1</td>\n",
       "    </tr>\n",
       "    <tr>\n",
       "      <th>252234</th>\n",
       "      <td>0</td>\n",
       "      <td>0</td>\n",
       "      <td>0</td>\n",
       "      <td>0</td>\n",
       "      <td>1</td>\n",
       "      <td>0</td>\n",
       "      <td>0</td>\n",
       "      <td>0</td>\n",
       "      <td>1</td>\n",
       "      <td>0</td>\n",
       "      <td>0</td>\n",
       "      <td>0</td>\n",
       "      <td>0</td>\n",
       "      <td>0</td>\n",
       "      <td>1</td>\n",
       "    </tr>\n",
       "    <tr>\n",
       "      <th>252237</th>\n",
       "      <td>0</td>\n",
       "      <td>1</td>\n",
       "      <td>0</td>\n",
       "      <td>0</td>\n",
       "      <td>0</td>\n",
       "      <td>0</td>\n",
       "      <td>0</td>\n",
       "      <td>0</td>\n",
       "      <td>0</td>\n",
       "      <td>0</td>\n",
       "      <td>0</td>\n",
       "      <td>0</td>\n",
       "      <td>0</td>\n",
       "      <td>1</td>\n",
       "      <td>0</td>\n",
       "    </tr>\n",
       "    <tr>\n",
       "      <th>252240</th>\n",
       "      <td>0</td>\n",
       "      <td>1</td>\n",
       "      <td>0</td>\n",
       "      <td>1</td>\n",
       "      <td>0</td>\n",
       "      <td>0</td>\n",
       "      <td>0</td>\n",
       "      <td>0</td>\n",
       "      <td>0</td>\n",
       "      <td>0</td>\n",
       "      <td>0</td>\n",
       "      <td>0</td>\n",
       "      <td>0</td>\n",
       "      <td>1</td>\n",
       "      <td>0</td>\n",
       "    </tr>\n",
       "    <tr>\n",
       "      <th>252262</th>\n",
       "      <td>1</td>\n",
       "      <td>1</td>\n",
       "      <td>1</td>\n",
       "      <td>1</td>\n",
       "      <td>0</td>\n",
       "      <td>0</td>\n",
       "      <td>1</td>\n",
       "      <td>0</td>\n",
       "      <td>0</td>\n",
       "      <td>1</td>\n",
       "      <td>0</td>\n",
       "      <td>0</td>\n",
       "      <td>1</td>\n",
       "      <td>1</td>\n",
       "      <td>1</td>\n",
       "    </tr>\n",
       "  </tbody>\n",
       "</table>\n",
       "</div>"
      ],
      "text/plain": [
       "        Data scientist  Database administrator  \\\n",
       "252218               1                       0   \n",
       "252234               0                       0   \n",
       "252237               0                       1   \n",
       "252240               0                       1   \n",
       "252262               1                       1   \n",
       "\n",
       "        Desktop applications developer  DevOps specialist  \\\n",
       "252218                               0                  0   \n",
       "252234                               0                  0   \n",
       "252237                               0                  0   \n",
       "252240                               0                  1   \n",
       "252262                               1                  1   \n",
       "\n",
       "        Developer with a statistics or mathematics background  \\\n",
       "252218                                                  0       \n",
       "252234                                                  1       \n",
       "252237                                                  0       \n",
       "252240                                                  0       \n",
       "252262                                                  0       \n",
       "\n",
       "        Embedded applications/devices developer  Graphic designer  \\\n",
       "252218                                        0                 0   \n",
       "252234                                        0                 0   \n",
       "252237                                        0                 0   \n",
       "252240                                        0                 0   \n",
       "252262                                        0                 1   \n",
       "\n",
       "        Graphics programming  Machine learning specialist  Mobile developer  \\\n",
       "252218                     0                            0                 0   \n",
       "252234                     0                            1                 0   \n",
       "252237                     0                            0                 0   \n",
       "252240                     0                            0                 0   \n",
       "252262                     0                            0                 1   \n",
       "\n",
       "        Other  Quality assurance engineer  Systems administrator  \\\n",
       "252218      1                           0                      0   \n",
       "252234      0                           0                      0   \n",
       "252237      0                           0                      0   \n",
       "252240      0                           0                      0   \n",
       "252262      0                           0                      1   \n",
       "\n",
       "        Web developer  Data scientist or machine learning specialist  \n",
       "252218              0                                              1  \n",
       "252234              0                                              1  \n",
       "252237              1                                              0  \n",
       "252240              1                                              0  \n",
       "252262              1                                              1  "
      ]
     },
     "execution_count": 8,
     "metadata": {},
     "output_type": "execute_result"
    }
   ],
   "source": [
    "split_2017.head()"
   ]
  },
  {
   "cell_type": "markdown",
   "metadata": {},
   "source": [
    "### 2018"
   ]
  },
  {
   "cell_type": "code",
   "execution_count": 9,
   "metadata": {},
   "outputs": [],
   "source": [
    "mask = data_2018['DevType'].str.contains(r'data|machine|business', case = False,na=False)\n",
    "df = data_2018[mask].copy()\n",
    "# Replace all space at beginning of the text\n",
    "df['DevType'].replace('^\\s+', '', regex=True, inplace=True) #front\n",
    "# Split the text by semi colon\n",
    "split_2018 = df['DevType'].str.get_dummies(sep=';')\n",
    "# Get the desired columns\n",
    "select_type_2018 = ['Data or business analyst',\n",
    "                    'Data scientist or machine learning specialist',\n",
    "                    'Database administrator']\n",
    "candidate_2018 = (np.sum(split_2018.loc[:,select_type_2018],axis = 1) != 0).index"
   ]
  },
  {
   "cell_type": "markdown",
   "metadata": {},
   "source": [
    "### 2019"
   ]
  },
  {
   "cell_type": "code",
   "execution_count": 10,
   "metadata": {},
   "outputs": [],
   "source": [
    "mask = data_2019['DevType'].str.contains(r'data|machine|business', case = False,na=False)\n",
    "df = data_2019[mask].copy()\n",
    "# Replace all space at beginning of the text\n",
    "df['DevType'].replace('^\\s+', '', regex=True, inplace=True) #front\n",
    "# Split the text by semi colon\n",
    "split_2019 = df['DevType'].str.get_dummies(sep=';')\n",
    "# Get the desired columns\n",
    "select_type_2019 = ['Data or business analyst',\n",
    "               'Data scientist or machine learning specialist',\n",
    "               'Database administrator',\n",
    "               'Engineer, data']\n",
    "candidate_2019 = (np.sum(split_2019.loc[:,select_type_2019],axis = 1) != 0).index"
   ]
  },
  {
   "cell_type": "markdown",
   "metadata": {},
   "source": [
    "### 2020"
   ]
  },
  {
   "cell_type": "code",
   "execution_count": 11,
   "metadata": {},
   "outputs": [],
   "source": [
    "mask = data_2020['DevType'].str.contains(r'data|machine|business', case = False,na=False)\n",
    "df = data_2020[mask].copy()\n",
    "# Replace all space at beginning of the text\n",
    "df['DevType'].replace('^\\s+', '', regex=True, inplace=True) #begin of the txt\n",
    "# Split the text by semi colon\n",
    "split_2020 = df['DevType'].str.get_dummies(sep=';')\n",
    "# Get the desired columns\n",
    "select_type_2020 = ['Data or business analyst',\n",
    "                   'Data scientist or machine learning specialist',\n",
    "                   'Database administrator',\n",
    "                   'Engineer, data']\n",
    "candidate_2020 = (np.sum(split_2020.loc[:,select_type_2020],axis = 1) != 0).index"
   ]
  },
  {
   "cell_type": "markdown",
   "metadata": {},
   "source": [
    "- Now, we merge all the splitted columns of `DevType` together. And from now, we will just use the data of the developers having the data related job \n",
    "- Then we will also convert features that contain list of values in to dummies variable: `DatabaseDesireNextYear`, `DatabaseWorkedWith`, `LanguageDesireNextYear` and `LanguageWorkedWith`."
   ]
  },
  {
   "cell_type": "code",
   "execution_count": 12,
   "metadata": {},
   "outputs": [],
   "source": [
    "# Concat all dummies of 4 year\n",
    "dm_dev_type = pd.concat([split_2017[select_type_2017],\n",
    "                                 split_2018[select_type_2018],\n",
    "                                 split_2019[select_type_2019],\n",
    "                                 split_2020[select_type_2020]],axis = 0)\n",
    "# we only consider these job type in the data\n",
    "data = data.loc[dm_dev_type.index,:]\n",
    "# Function to convert \n",
    "def dummies_converter(df, col):\n",
    "    # remove space at the begining of the text\n",
    "    df[col].replace('^\\s+', '', regex=True, inplace=True) #begin of the txt\n",
    "    # Split the text by semi colon\n",
    "    dm1 = df[df['Year'] == 2017][col].str.get_dummies(sep='; ')\n",
    "    dm2 = df[df['Year'] >= 2018][col].str.get_dummies(sep=';')\n",
    "    return pd.concat([dm1,dm2],axis = 0)\n",
    "# Feature to get dummies:\n",
    "feat_for_dm = ['DatabaseDesireNextYear', 'DatabaseWorkedWith', 'LanguageDesireNextYear', 'LanguageWorkedWith', 'DevType']\n",
    "# Convert to dummies\n",
    "dm_db_nextyear = dummies_converter(data,'DatabaseDesireNextYear')\n",
    "dm_db_work = dummies_converter(data,'DatabaseWorkedWith')\n",
    "dm_language_nextyear = dummies_converter(data,'LanguageDesireNextYear')\n",
    "dm_language_work = dummies_converter(data,'LanguageWorkedWith')\n",
    "# Drop converted features\n",
    "data = data.drop(feat_for_dm,axis = 1,errors='ignore')"
   ]
  },
  {
   "cell_type": "markdown",
   "metadata": {},
   "source": [
    "**Now we have 5 data frames of dummies features**\n",
    "- dm_dev_type\n",
    "- dm_db_nextyear\n",
    "- dm_db_work\n",
    "- dm_language_nextyear\n",
    "- dm_language_work"
   ]
  },
  {
   "cell_type": "code",
   "execution_count": 13,
   "metadata": {},
   "outputs": [
    {
     "data": {
      "text/html": [
       "<div>\n",
       "<style scoped>\n",
       "    .dataframe tbody tr th:only-of-type {\n",
       "        vertical-align: middle;\n",
       "    }\n",
       "\n",
       "    .dataframe tbody tr th {\n",
       "        vertical-align: top;\n",
       "    }\n",
       "\n",
       "    .dataframe thead th {\n",
       "        text-align: right;\n",
       "    }\n",
       "</style>\n",
       "<table border=\"1\" class=\"dataframe\">\n",
       "  <thead>\n",
       "    <tr style=\"text-align: right;\">\n",
       "      <th></th>\n",
       "      <th>Data scientist or machine learning specialist</th>\n",
       "      <th>Database administrator</th>\n",
       "      <th>Data or business analyst</th>\n",
       "      <th>Engineer, data</th>\n",
       "    </tr>\n",
       "  </thead>\n",
       "  <tbody>\n",
       "    <tr>\n",
       "      <th>252218</th>\n",
       "      <td>1</td>\n",
       "      <td>0</td>\n",
       "      <td>NaN</td>\n",
       "      <td>NaN</td>\n",
       "    </tr>\n",
       "    <tr>\n",
       "      <th>252234</th>\n",
       "      <td>1</td>\n",
       "      <td>0</td>\n",
       "      <td>NaN</td>\n",
       "      <td>NaN</td>\n",
       "    </tr>\n",
       "    <tr>\n",
       "      <th>252237</th>\n",
       "      <td>0</td>\n",
       "      <td>1</td>\n",
       "      <td>NaN</td>\n",
       "      <td>NaN</td>\n",
       "    </tr>\n",
       "    <tr>\n",
       "      <th>252240</th>\n",
       "      <td>0</td>\n",
       "      <td>1</td>\n",
       "      <td>NaN</td>\n",
       "      <td>NaN</td>\n",
       "    </tr>\n",
       "    <tr>\n",
       "      <th>252262</th>\n",
       "      <td>1</td>\n",
       "      <td>1</td>\n",
       "      <td>NaN</td>\n",
       "      <td>NaN</td>\n",
       "    </tr>\n",
       "  </tbody>\n",
       "</table>\n",
       "</div>"
      ],
      "text/plain": [
       "        Data scientist or machine learning specialist  Database administrator  \\\n",
       "252218                                              1                       0   \n",
       "252234                                              1                       0   \n",
       "252237                                              0                       1   \n",
       "252240                                              0                       1   \n",
       "252262                                              1                       1   \n",
       "\n",
       "        Data or business analyst  Engineer, data  \n",
       "252218                       NaN             NaN  \n",
       "252234                       NaN             NaN  \n",
       "252237                       NaN             NaN  \n",
       "252240                       NaN             NaN  \n",
       "252262                       NaN             NaN  "
      ]
     },
     "execution_count": 13,
     "metadata": {},
     "output_type": "execute_result"
    }
   ],
   "source": [
    "#data = pd.merge(data, dev_type, left_index=True, right_index=True)\n",
    "dm_dev_type.head()"
   ]
  },
  {
   "cell_type": "code",
   "execution_count": 14,
   "metadata": {},
   "outputs": [],
   "source": [
    "df = data.copy()\n",
    "#df = pd.merge(df, dm_dev_type, left_index= True, right_index= True)\n",
    "#df['LogEarnings'] = np.log10(df['ConvertedComp']+1)"
   ]
  },
  {
   "cell_type": "code",
   "execution_count": 15,
   "metadata": {},
   "outputs": [
    {
     "data": {
      "text/html": [
       "<div>\n",
       "<style scoped>\n",
       "    .dataframe tbody tr th:only-of-type {\n",
       "        vertical-align: middle;\n",
       "    }\n",
       "\n",
       "    .dataframe tbody tr th {\n",
       "        vertical-align: top;\n",
       "    }\n",
       "\n",
       "    .dataframe thead th {\n",
       "        text-align: right;\n",
       "    }\n",
       "</style>\n",
       "<table border=\"1\" class=\"dataframe\">\n",
       "  <thead>\n",
       "    <tr style=\"text-align: right;\">\n",
       "      <th></th>\n",
       "      <th>Year</th>\n",
       "      <th>ConvertedComp</th>\n",
       "      <th>YearsCodePro</th>\n",
       "    </tr>\n",
       "  </thead>\n",
       "  <tbody>\n",
       "    <tr>\n",
       "      <th>count</th>\n",
       "      <td>61562.000000</td>\n",
       "      <td>3.609000e+04</td>\n",
       "      <td>56310.000000</td>\n",
       "    </tr>\n",
       "    <tr>\n",
       "      <th>mean</th>\n",
       "      <td>2018.593142</td>\n",
       "      <td>1.113321e+05</td>\n",
       "      <td>8.692524</td>\n",
       "    </tr>\n",
       "    <tr>\n",
       "      <th>std</th>\n",
       "      <td>0.942615</td>\n",
       "      <td>2.517584e+05</td>\n",
       "      <td>7.312943</td>\n",
       "    </tr>\n",
       "    <tr>\n",
       "      <th>min</th>\n",
       "      <td>2017.000000</td>\n",
       "      <td>0.000000e+00</td>\n",
       "      <td>1.000000</td>\n",
       "    </tr>\n",
       "    <tr>\n",
       "      <th>25%</th>\n",
       "      <td>2018.000000</td>\n",
       "      <td>2.512875e+04</td>\n",
       "      <td>3.000000</td>\n",
       "    </tr>\n",
       "    <tr>\n",
       "      <th>50%</th>\n",
       "      <td>2019.000000</td>\n",
       "      <td>5.507500e+04</td>\n",
       "      <td>6.000000</td>\n",
       "    </tr>\n",
       "    <tr>\n",
       "      <th>75%</th>\n",
       "      <td>2019.000000</td>\n",
       "      <td>9.500000e+04</td>\n",
       "      <td>12.000000</td>\n",
       "    </tr>\n",
       "    <tr>\n",
       "      <th>max</th>\n",
       "      <td>2020.000000</td>\n",
       "      <td>2.000000e+06</td>\n",
       "      <td>30.000000</td>\n",
       "    </tr>\n",
       "  </tbody>\n",
       "</table>\n",
       "</div>"
      ],
      "text/plain": [
       "               Year  ConvertedComp  YearsCodePro\n",
       "count  61562.000000   3.609000e+04  56310.000000\n",
       "mean    2018.593142   1.113321e+05      8.692524\n",
       "std        0.942615   2.517584e+05      7.312943\n",
       "min     2017.000000   0.000000e+00      1.000000\n",
       "25%     2018.000000   2.512875e+04      3.000000\n",
       "50%     2019.000000   5.507500e+04      6.000000\n",
       "75%     2019.000000   9.500000e+04     12.000000\n",
       "max     2020.000000   2.000000e+06     30.000000"
      ]
     },
     "execution_count": 15,
     "metadata": {},
     "output_type": "execute_result"
    }
   ],
   "source": [
    "df.describe()"
   ]
  },
  {
   "cell_type": "markdown",
   "metadata": {},
   "source": [
    "**The target varialbe of this analyis this annual salary - `ConvertedComp`, lets take a look into that feature first**"
   ]
  },
  {
   "cell_type": "code",
   "execution_count": 16,
   "metadata": {},
   "outputs": [
    {
     "data": {
      "text/plain": [
       "Year                  0\n",
       "Hobbyist              0\n",
       "ConvertedComp     25472\n",
       "Country               0\n",
       "EdLevel            1074\n",
       "Employment          283\n",
       "JobSat             8798\n",
       "OrgSize           10581\n",
       "UndergradMajor     7488\n",
       "YearsCodePro       5252\n",
       "dtype: int64"
      ]
     },
     "execution_count": 16,
     "metadata": {},
     "output_type": "execute_result"
    }
   ],
   "source": [
    "df.isna().sum()"
   ]
  },
  {
   "cell_type": "code",
   "execution_count": 17,
   "metadata": {},
   "outputs": [
    {
     "data": {
      "image/png": "[encoded data removed]",
      "text/plain": [
       "<Figure size 1296x360 with 1 Axes>"
      ]
     },
     "metadata": {
      "needs_background": "light"
     },
     "output_type": "display_data"
    }
   ],
   "source": [
    "fig, ax = plt.subplots(figsize=(18, 5))\n",
    "sns.boxplot(x=\"Year\", y=\"ConvertedComp\",\n",
    "            hue = 'Employment',\n",
    "            data=df,\n",
    "            ax = ax)\n",
    "sns.despine(offset=10, trim=True)\n",
    "plt.show()"
   ]
  },
  {
   "cell_type": "markdown",
   "metadata": {},
   "source": [
    "To make this analysis as practical as possible, we will only consider people who was having a job related to data, so we will exclude people who does not have a salary information and job of not employed, no information on job or retired."
   ]
  },
  {
   "cell_type": "code",
   "execution_count": 18,
   "metadata": {},
   "outputs": [],
   "source": [
    "# Drop irrelevant job title\n",
    "df = df.loc[~df['Employment'].isin(['Not employed, and not looking for work',\n",
    "                                    'Not employed, but looking for work',\n",
    "                                    'I prefer not to say', 'Retired']), :]\n",
    "# Drop people do not have information about salary\n",
    "df = df.loc[~df[\"ConvertedComp\"].isna(),:]"
   ]
  },
  {
   "cell_type": "code",
   "execution_count": 19,
   "metadata": {},
   "outputs": [
    {
     "data": {
      "image/png": "[encoded data removed]",
      "text/plain": [
       "<Figure size 1296x360 with 1 Axes>"
      ]
     },
     "metadata": {
      "needs_background": "light"
     },
     "output_type": "display_data"
    }
   ],
   "source": [
    "fig, ax = plt.subplots(figsize=(18, 5))\n",
    "sns.boxplot(x=\"Year\", y=\"ConvertedComp\",\n",
    "            hue = 'Employment',\n",
    "            data=df,\n",
    "            ax = ax)\n",
    "sns.despine(offset=10, trim=True)\n",
    "plt.show()"
   ]
  },
  {
   "cell_type": "markdown",
   "metadata": {},
   "source": [
    "From the box-plot, we can observe that there is a lot of outliers in the annual salary, for relevancy of this analysis, we will exclude people ving annual salary more than 300,000$"
   ]
  },
  {
   "cell_type": "code",
   "execution_count": 20,
   "metadata": {
    "scrolled": true
   },
   "outputs": [
    {
     "data": {
      "image/png": "[encoded data removed]",
      "text/plain": [
       "<Figure size 1296x360 with 1 Axes>"
      ]
     },
     "metadata": {
      "needs_background": "light"
     },
     "output_type": "display_data"
    }
   ],
   "source": [
    "# Remove outlier\n",
    "df = df.loc[(df['ConvertedComp'] < 300000) & (df['ConvertedComp'] > 0),:]\n",
    "# plot\n",
    "fig, ax = plt.subplots(figsize=(18, 5))\n",
    "sns.boxplot(x=\"Year\", y=\"ConvertedComp\",\n",
    "            hue = 'Employment',\n",
    "            data=df,\n",
    "            ax = ax)\n",
    "sns.despine(offset=10, trim=True)\n",
    "plt.show()"
   ]
  },
  {
   "cell_type": "code",
   "execution_count": 21,
   "metadata": {
    "scrolled": true
   },
   "outputs": [
    {
     "data": {
      "text/plain": [
       "54.58074786394205"
      ]
     },
     "execution_count": 21,
     "metadata": {},
     "output_type": "execute_result"
    }
   ],
   "source": [
    "#percentage of data kept after removing outliers and considering only instances that have our target variable\n",
    "len(df)/len(data)*100"
   ]
  },
  {
   "cell_type": "markdown",
   "metadata": {},
   "source": [
    "## Missing values treatment"
   ]
  },
  {
   "cell_type": "code",
   "execution_count": 22,
   "metadata": {},
   "outputs": [
    {
     "data": {
      "text/plain": [
       "Year                 0\n",
       "Hobbyist             0\n",
       "ConvertedComp        0\n",
       "Country              0\n",
       "EdLevel            463\n",
       "Employment          40\n",
       "JobSat              75\n",
       "OrgSize           1697\n",
       "UndergradMajor    3086\n",
       "YearsCodePro        83\n",
       "dtype: int64"
      ]
     },
     "execution_count": 22,
     "metadata": {},
     "output_type": "execute_result"
    }
   ],
   "source": [
    "#This is the number of missing values still existing (without dummies)\n",
    "df.isna().sum()"
   ]
  },
  {
   "cell_type": "code",
   "execution_count": 22,
   "metadata": {},
   "outputs": [
    {
     "data": {
      "text/html": [
       "<div>\n",
       "<style scoped>\n",
       "    .dataframe tbody tr th:only-of-type {\n",
       "        vertical-align: middle;\n",
       "    }\n",
       "\n",
       "    .dataframe tbody tr th {\n",
       "        vertical-align: top;\n",
       "    }\n",
       "\n",
       "    .dataframe thead th {\n",
       "        text-align: right;\n",
       "    }\n",
       "</style>\n",
       "<table border=\"1\" class=\"dataframe\">\n",
       "  <thead>\n",
       "    <tr style=\"text-align: right;\">\n",
       "      <th></th>\n",
       "      <th>Year</th>\n",
       "      <th>Hobbyist</th>\n",
       "      <th>ConvertedComp</th>\n",
       "      <th>Country</th>\n",
       "      <th>EdLevel</th>\n",
       "      <th>Employment</th>\n",
       "      <th>JobSat</th>\n",
       "      <th>OrgSize</th>\n",
       "      <th>UndergradMajor</th>\n",
       "      <th>YearsCodePro</th>\n",
       "    </tr>\n",
       "  </thead>\n",
       "  <tbody>\n",
       "    <tr>\n",
       "      <th>252617</th>\n",
       "      <td>2017</td>\n",
       "      <td>Yes, both</td>\n",
       "      <td>40000.00000</td>\n",
       "      <td>Germany</td>\n",
       "      <td>Secondary school</td>\n",
       "      <td>Employed full-time</td>\n",
       "      <td>6.0</td>\n",
       "      <td>20 to 99 employees</td>\n",
       "      <td>NaN</td>\n",
       "      <td>4.0</td>\n",
       "    </tr>\n",
       "    <tr>\n",
       "      <th>252719</th>\n",
       "      <td>2017</td>\n",
       "      <td>Yes, I program as a hobby</td>\n",
       "      <td>20493.82716</td>\n",
       "      <td>Poland</td>\n",
       "      <td>Secondary school</td>\n",
       "      <td>Employed part-time</td>\n",
       "      <td>9.0</td>\n",
       "      <td>2 to 9 employees</td>\n",
       "      <td>NaN</td>\n",
       "      <td>1.0</td>\n",
       "    </tr>\n",
       "    <tr>\n",
       "      <th>253076</th>\n",
       "      <td>2017</td>\n",
       "      <td>Yes, I program as a hobby</td>\n",
       "      <td>27272.72727</td>\n",
       "      <td>Canada</td>\n",
       "      <td>Secondary school</td>\n",
       "      <td>Employed full-time</td>\n",
       "      <td>3.0</td>\n",
       "      <td>20 to 99 employees</td>\n",
       "      <td>NaN</td>\n",
       "      <td>2.0</td>\n",
       "    </tr>\n",
       "    <tr>\n",
       "      <th>253346</th>\n",
       "      <td>2017</td>\n",
       "      <td>Yes, both</td>\n",
       "      <td>88000.00000</td>\n",
       "      <td>United States</td>\n",
       "      <td>Secondary school</td>\n",
       "      <td>Employed full-time</td>\n",
       "      <td>5.0</td>\n",
       "      <td>100 to 499 employees</td>\n",
       "      <td>NaN</td>\n",
       "      <td>11.0</td>\n",
       "    </tr>\n",
       "    <tr>\n",
       "      <th>253395</th>\n",
       "      <td>2017</td>\n",
       "      <td>Yes, I program as a hobby</td>\n",
       "      <td>110000.00000</td>\n",
       "      <td>United States</td>\n",
       "      <td>Bachelor's degree</td>\n",
       "      <td>Employed full-time</td>\n",
       "      <td>9.0</td>\n",
       "      <td>2 to 9 employees</td>\n",
       "      <td>Computer science</td>\n",
       "      <td>NaN</td>\n",
       "    </tr>\n",
       "    <tr>\n",
       "      <th>...</th>\n",
       "      <td>...</td>\n",
       "      <td>...</td>\n",
       "      <td>...</td>\n",
       "      <td>...</td>\n",
       "      <td>...</td>\n",
       "      <td>...</td>\n",
       "      <td>...</td>\n",
       "      <td>...</td>\n",
       "      <td>...</td>\n",
       "      <td>...</td>\n",
       "    </tr>\n",
       "    <tr>\n",
       "      <th>63051</th>\n",
       "      <td>2020</td>\n",
       "      <td>Yes</td>\n",
       "      <td>5868.00000</td>\n",
       "      <td>India</td>\n",
       "      <td>NaN</td>\n",
       "      <td>Employed full-time</td>\n",
       "      <td>8</td>\n",
       "      <td>10,000 or more employees</td>\n",
       "      <td>Computer science</td>\n",
       "      <td>6.0</td>\n",
       "    </tr>\n",
       "    <tr>\n",
       "      <th>63383</th>\n",
       "      <td>2020</td>\n",
       "      <td>No</td>\n",
       "      <td>13620.00000</td>\n",
       "      <td>Argentina</td>\n",
       "      <td>Secondary school</td>\n",
       "      <td>Employed full-time</td>\n",
       "      <td>5</td>\n",
       "      <td>20 to 99 employees</td>\n",
       "      <td>NaN</td>\n",
       "      <td>7.0</td>\n",
       "    </tr>\n",
       "    <tr>\n",
       "      <th>63542</th>\n",
       "      <td>2020</td>\n",
       "      <td>Yes</td>\n",
       "      <td>2640.00000</td>\n",
       "      <td>Sri Lanka</td>\n",
       "      <td>NaN</td>\n",
       "      <td>Employed full-time</td>\n",
       "      <td>2</td>\n",
       "      <td>10 to 19 employees</td>\n",
       "      <td>Computer science</td>\n",
       "      <td>1.0</td>\n",
       "    </tr>\n",
       "    <tr>\n",
       "      <th>63941</th>\n",
       "      <td>2020</td>\n",
       "      <td>Yes</td>\n",
       "      <td>38375.00000</td>\n",
       "      <td>Spain</td>\n",
       "      <td>I never completed any formal education</td>\n",
       "      <td>Employed full-time</td>\n",
       "      <td>6</td>\n",
       "      <td>1,000 to 4,999 employees</td>\n",
       "      <td>NaN</td>\n",
       "      <td>7.0</td>\n",
       "    </tr>\n",
       "    <tr>\n",
       "      <th>63998</th>\n",
       "      <td>2020</td>\n",
       "      <td>Yes</td>\n",
       "      <td>100000.00000</td>\n",
       "      <td>United States</td>\n",
       "      <td>Bachelor's degree</td>\n",
       "      <td>Employed full-time</td>\n",
       "      <td>6</td>\n",
       "      <td>10,000 or more employees</td>\n",
       "      <td>NaN</td>\n",
       "      <td>5.0</td>\n",
       "    </tr>\n",
       "  </tbody>\n",
       "</table>\n",
       "<p>4905 rows × 10 columns</p>\n",
       "</div>"
      ],
      "text/plain": [
       "        Year                   Hobbyist  ConvertedComp        Country  \\\n",
       "252617  2017                  Yes, both    40000.00000        Germany   \n",
       "252719  2017  Yes, I program as a hobby    20493.82716         Poland   \n",
       "253076  2017  Yes, I program as a hobby    27272.72727         Canada   \n",
       "253346  2017                  Yes, both    88000.00000  United States   \n",
       "253395  2017  Yes, I program as a hobby   110000.00000  United States   \n",
       "...      ...                        ...            ...            ...   \n",
       "63051   2020                        Yes     5868.00000          India   \n",
       "63383   2020                         No    13620.00000      Argentina   \n",
       "63542   2020                        Yes     2640.00000      Sri Lanka   \n",
       "63941   2020                        Yes    38375.00000          Spain   \n",
       "63998   2020                        Yes   100000.00000  United States   \n",
       "\n",
       "                                       EdLevel          Employment JobSat  \\\n",
       "252617                        Secondary school  Employed full-time    6.0   \n",
       "252719                        Secondary school  Employed part-time    9.0   \n",
       "253076                        Secondary school  Employed full-time    3.0   \n",
       "253346                        Secondary school  Employed full-time    5.0   \n",
       "253395                       Bachelor's degree  Employed full-time    9.0   \n",
       "...                                        ...                 ...    ...   \n",
       "63051                                      NaN  Employed full-time      8   \n",
       "63383                         Secondary school  Employed full-time      5   \n",
       "63542                                      NaN  Employed full-time      2   \n",
       "63941   I never completed any formal education  Employed full-time      6   \n",
       "63998                        Bachelor's degree  Employed full-time      6   \n",
       "\n",
       "                         OrgSize    UndergradMajor  YearsCodePro  \n",
       "252617        20 to 99 employees               NaN           4.0  \n",
       "252719          2 to 9 employees               NaN           1.0  \n",
       "253076        20 to 99 employees               NaN           2.0  \n",
       "253346      100 to 499 employees               NaN          11.0  \n",
       "253395          2 to 9 employees  Computer science           NaN  \n",
       "...                          ...               ...           ...  \n",
       "63051   10,000 or more employees  Computer science           6.0  \n",
       "63383         20 to 99 employees               NaN           7.0  \n",
       "63542         10 to 19 employees  Computer science           1.0  \n",
       "63941   1,000 to 4,999 employees               NaN           7.0  \n",
       "63998   10,000 or more employees               NaN           5.0  \n",
       "\n",
       "[4905 rows x 10 columns]"
      ]
     },
     "execution_count": 22,
     "metadata": {},
     "output_type": "execute_result"
    }
   ],
   "source": [
    "#will give the index of the rows with any missing value\n",
    "nans_index = df.isna().any(axis=1)\n",
    "df[nans_index]"
   ]
  },
  {
   "cell_type": "code",
   "execution_count": 23,
   "metadata": {},
   "outputs": [
    {
     "data": {
      "text/plain": [
       "14.597779827981311"
      ]
     },
     "execution_count": 23,
     "metadata": {},
     "output_type": "execute_result"
    }
   ],
   "source": [
    "#if we would remove all the rowa with still missing values that would mean loosing 14,5% of data\n",
    "len(df[nans_index])/len(df)*100"
   ]
  },
  {
   "cell_type": "code",
   "execution_count": 24,
   "metadata": {},
   "outputs": [
    {
     "name": "stdout",
     "output_type": "stream",
     "text": [
      "Year                int64\n",
      "Hobbyist           object\n",
      "ConvertedComp     float64\n",
      "Country            object\n",
      "EdLevel            object\n",
      "Employment         object\n",
      "JobSat             object\n",
      "OrgSize            object\n",
      "UndergradMajor     object\n",
      "YearsCodePro      float64\n",
      "dtype: object\n"
     ]
    }
   ],
   "source": [
    "print(df.dtypes)"
   ]
  },
  {
   "cell_type": "code",
   "execution_count": 25,
   "metadata": {},
   "outputs": [],
   "source": [
    "#let's transform to float\n",
    "df['JobSat']=df['JobSat'].astype(float)"
   ]
  },
  {
   "cell_type": "code",
   "execution_count": 26,
   "metadata": {},
   "outputs": [],
   "source": [
    "# Creating new df copy to explore missing values imputation\n",
    "df_na = df.copy()"
   ]
  },
  {
   "cell_type": "code",
   "execution_count": 27,
   "metadata": {},
   "outputs": [],
   "source": [
    "# KNNImputer \n",
    "imputer = KNNImputer(n_neighbors=5, weights=\"uniform\")\n",
    "\n",
    "# to fill the missing values \n",
    "related_variables_yearscodepro = (['YearsCodePro'])\n",
    "related_variables_jobsat = (['JobSat'])"
   ]
  },
  {
   "cell_type": "code",
   "execution_count": 28,
   "metadata": {},
   "outputs": [],
   "source": [
    "df_na[related_variables_yearscodepro] = imputer.fit_transform(df_na[related_variables_yearscodepro])\n",
    "df_na[related_variables_jobsat] = imputer.fit_transform(df_na[related_variables_jobsat])"
   ]
  },
  {
   "cell_type": "code",
   "execution_count": 29,
   "metadata": {},
   "outputs": [
    {
     "data": {
      "text/plain": [
       "array([ 2.        ,  3.        ,  4.        , 15.        ,  5.        ,\n",
       "       10.        ,  9.        ,  1.        , 16.        ,  7.        ,\n",
       "       20.        , 18.        , 17.        , 11.        ,  6.        ,\n",
       "       14.        ,  8.        , 19.        ,  8.75571335, 13.        ,\n",
       "       12.        , 23.        , 26.        , 30.        , 29.        ,\n",
       "       22.        , 25.        , 21.        , 24.        , 27.        ,\n",
       "       28.        ])"
      ]
     },
     "execution_count": 29,
     "metadata": {},
     "output_type": "execute_result"
    }
   ],
   "source": [
    "df_na[\"YearsCodePro\"].unique()"
   ]
  },
  {
   "cell_type": "code",
   "execution_count": 30,
   "metadata": {},
   "outputs": [],
   "source": [
    "df_na[\"YearsCodePro\"]=df_na[\"YearsCodePro\"].round(decimals=0)"
   ]
  },
  {
   "cell_type": "code",
   "execution_count": 31,
   "metadata": {},
   "outputs": [
    {
     "data": {
      "text/plain": [
       "array([ 2.,  3.,  4., 15.,  5., 10.,  9.,  1., 16.,  7., 20., 18., 17.,\n",
       "       11.,  6., 14.,  8., 19., 13., 12., 23., 26., 30., 29., 22., 25.,\n",
       "       21., 24., 27., 28.])"
      ]
     },
     "execution_count": 31,
     "metadata": {},
     "output_type": "execute_result"
    }
   ],
   "source": [
    "df_na[\"YearsCodePro\"].unique()"
   ]
  },
  {
   "cell_type": "code",
   "execution_count": 32,
   "metadata": {},
   "outputs": [
    {
     "data": {
      "text/plain": [
       "array([ 4.        , 10.        ,  6.        ,  5.        ,  7.        ,\n",
       "        8.        ,  1.        ,  3.        ,  9.        ,  2.        ,\n",
       "        6.12426177,  0.        ])"
      ]
     },
     "execution_count": 32,
     "metadata": {},
     "output_type": "execute_result"
    }
   ],
   "source": [
    "df_na[\"JobSat\"].unique()"
   ]
  },
  {
   "cell_type": "code",
   "execution_count": 33,
   "metadata": {},
   "outputs": [],
   "source": [
    "df_na[\"JobSat\"]=df_na[\"JobSat\"].round(decimals=0)"
   ]
  },
  {
   "cell_type": "code",
   "execution_count": 34,
   "metadata": {},
   "outputs": [
    {
     "data": {
      "text/plain": [
       "array([ 4., 10.,  6.,  5.,  7.,  8.,  1.,  3.,  9.,  2.,  0.])"
      ]
     },
     "execution_count": 34,
     "metadata": {},
     "output_type": "execute_result"
    }
   ],
   "source": [
    "df_na[\"JobSat\"].unique()"
   ]
  },
  {
   "cell_type": "code",
   "execution_count": 35,
   "metadata": {},
   "outputs": [],
   "source": [
    "#apply the imputation to the database\n",
    "df=df_na.copy()"
   ]
  },
  {
   "cell_type": "code",
   "execution_count": 36,
   "metadata": {},
   "outputs": [
    {
     "data": {
      "text/plain": [
       "Bachelor's degree                                                    14140\n",
       "Master's degree                                                       9020\n",
       "Some college/university study without earning a bachelor's degree     4459\n",
       "Doctoral degree                                                       1863\n",
       "Secondary school                                                      1792\n",
       "Associate degree                                                      1012\n",
       "Professional degree                                                    501\n",
       "Primary/elementary school                                              201\n",
       "I never completed any formal education                                 140\n",
       "I prefer not to answer                                                  10\n",
       "Name: EdLevel, dtype: int64"
      ]
     },
     "execution_count": 36,
     "metadata": {},
     "output_type": "execute_result"
    }
   ],
   "source": [
    "df['EdLevel'].value_counts().head(10) "
   ]
  },
  {
   "cell_type": "code",
   "execution_count": 37,
   "metadata": {},
   "outputs": [],
   "source": [
    "#since there is the option of \"i prefer not to answer\" we think that this is the logical value to fill the missing values in thos variable\n",
    "df['EdLevel'].fillna(value=\"I prefer not to answer \", inplace=True)"
   ]
  },
  {
   "cell_type": "code",
   "execution_count": 38,
   "metadata": {},
   "outputs": [
    {
     "data": {
      "text/plain": [
       "Employed full-time                                      28673\n",
       "Independent contractor, freelancer, or self-employed     3387\n",
       "Employed part-time                                       1501\n",
       "Name: Employment, dtype: int64"
      ]
     },
     "execution_count": 38,
     "metadata": {},
     "output_type": "execute_result"
    }
   ],
   "source": [
    "df['Employment'].value_counts().head(10) "
   ]
  },
  {
   "cell_type": "code",
   "execution_count": 39,
   "metadata": {},
   "outputs": [],
   "source": [
    "#since there is clearly a most frequent value we will use the mode to subtitute the missing values\n",
    "df['Employment'].fillna(df['Employment'].mode()[0], inplace=True)"
   ]
  },
  {
   "cell_type": "code",
   "execution_count": 40,
   "metadata": {},
   "outputs": [
    {
     "data": {
      "text/plain": [
       "20 to 99 employees                                    6861\n",
       "100 to 499 employees                                  5332\n",
       "10,000 or more employees                              4360\n",
       "2 to 9 employees                                      4087\n",
       "10 to 19 employees                                    3538\n",
       "1,000 to 4,999 employees                              3331\n",
       "500 to 999 employees                                  1889\n",
       "5,000 to 9,999 employees                              1408\n",
       "Just me - I am a freelancer, sole proprietor, etc.    1063\n",
       "I don't know                                            26\n",
       "Name: OrgSize, dtype: int64"
      ]
     },
     "execution_count": 40,
     "metadata": {},
     "output_type": "execute_result"
    }
   ],
   "source": [
    "df['OrgSize'].value_counts().head(10) "
   ]
  },
  {
   "cell_type": "code",
   "execution_count": 41,
   "metadata": {},
   "outputs": [],
   "source": [
    "#since there is an option for 'i don't know' we will use it to fill the missing values\n",
    "df['OrgSize'].fillna(value=\"I don't know\", inplace=True)"
   ]
  },
  {
   "cell_type": "code",
   "execution_count": 42,
   "metadata": {
    "scrolled": true
   },
   "outputs": [
    {
     "data": {
      "text/plain": [
       "Computer science                  17015\n",
       "Another engineering discipline     2746\n",
       "Information systems                2397\n",
       "Natural science                    2071\n",
       "Mathematics or statistics          1962\n",
       "Business                           1012\n",
       "Social science                      806\n",
       "Web development or web design       705\n",
       "Humanities                          624\n",
       "Fine arts or performing arts        338\n",
       "Name: UndergradMajor, dtype: int64"
      ]
     },
     "execution_count": 42,
     "metadata": {},
     "output_type": "execute_result"
    }
   ],
   "source": [
    "df['UndergradMajor'].value_counts().head(10) "
   ]
  },
  {
   "cell_type": "code",
   "execution_count": 43,
   "metadata": {},
   "outputs": [],
   "source": [
    "#there is clearly a most frequent value in this variable so we will use the mode to substitute the missing values\n",
    "df['UndergradMajor'].fillna(df['UndergradMajor'].mode()[0], inplace=True)"
   ]
  },
  {
   "cell_type": "code",
   "execution_count": 44,
   "metadata": {},
   "outputs": [
    {
     "data": {
      "text/plain": [
       "Year              0\n",
       "Hobbyist          0\n",
       "ConvertedComp     0\n",
       "Country           0\n",
       "EdLevel           0\n",
       "Employment        0\n",
       "JobSat            0\n",
       "OrgSize           0\n",
       "UndergradMajor    0\n",
       "YearsCodePro      0\n",
       "dtype: int64"
      ]
     },
     "execution_count": 44,
     "metadata": {},
     "output_type": "execute_result"
    }
   ],
   "source": [
    "# to verify the final number of missing values \n",
    "df.isna().sum()"
   ]
  },
  {
   "cell_type": "code",
   "execution_count": 45,
   "metadata": {},
   "outputs": [],
   "source": [
    "#the nan values in the dummies will be substituted by zero, we just must have in consideration that for example the databases in 2017 don't include all the options that exist in the other years\n",
    "#in the same way in devtype the options of data/ business analyst and data engineer in 2017 qre not existing\n",
    "dm_db_nextyear.fillna(value=0, inplace=True)\n",
    "dm_dev_type.fillna(value=0, inplace=True)\n",
    "dm_db_work.fillna(value=0, inplace=True)\n",
    "dm_language_nextyear.fillna(value=0, inplace=True)\n",
    "dm_language_work.fillna(value=0, inplace=True)"
   ]
  },
  {
   "cell_type": "code",
   "execution_count": 46,
   "metadata": {},
   "outputs": [
    {
     "data": {
      "text/html": [
       "<div>\n",
       "<style scoped>\n",
       "    .dataframe tbody tr th:only-of-type {\n",
       "        vertical-align: middle;\n",
       "    }\n",
       "\n",
       "    .dataframe tbody tr th {\n",
       "        vertical-align: top;\n",
       "    }\n",
       "\n",
       "    .dataframe thead th {\n",
       "        text-align: right;\n",
       "    }\n",
       "</style>\n",
       "<table border=\"1\" class=\"dataframe\">\n",
       "  <thead>\n",
       "    <tr style=\"text-align: right;\">\n",
       "      <th></th>\n",
       "      <th>Year</th>\n",
       "      <th>Hobbyist</th>\n",
       "      <th>ConvertedComp</th>\n",
       "      <th>Country</th>\n",
       "      <th>EdLevel</th>\n",
       "      <th>Employment</th>\n",
       "      <th>JobSat</th>\n",
       "      <th>OrgSize</th>\n",
       "      <th>UndergradMajor</th>\n",
       "      <th>YearsCodePro</th>\n",
       "      <th>...</th>\n",
       "      <th>Bash/Shell/PowerShell</th>\n",
       "      <th>CSS</th>\n",
       "      <th>Cobol</th>\n",
       "      <th>Delphi/Object Pascal</th>\n",
       "      <th>HTML</th>\n",
       "      <th>HTML/CSS</th>\n",
       "      <th>Kotlin</th>\n",
       "      <th>Ocaml</th>\n",
       "      <th>Other(s):</th>\n",
       "      <th>WebAssembly</th>\n",
       "    </tr>\n",
       "  </thead>\n",
       "  <tbody>\n",
       "    <tr>\n",
       "      <th>252342</th>\n",
       "      <td>2017</td>\n",
       "      <td>Yes, both</td>\n",
       "      <td>43750.00000</td>\n",
       "      <td>United Kingdom</td>\n",
       "      <td>Bachelor's degree</td>\n",
       "      <td>Employed full-time</td>\n",
       "      <td>4.0</td>\n",
       "      <td>2 to 9 employees</td>\n",
       "      <td>Computer science</td>\n",
       "      <td>2.0</td>\n",
       "      <td>...</td>\n",
       "      <td>0.0</td>\n",
       "      <td>0.0</td>\n",
       "      <td>0.0</td>\n",
       "      <td>0.0</td>\n",
       "      <td>0.0</td>\n",
       "      <td>0.0</td>\n",
       "      <td>0.0</td>\n",
       "      <td>0.0</td>\n",
       "      <td>0.0</td>\n",
       "      <td>0.0</td>\n",
       "    </tr>\n",
       "    <tr>\n",
       "      <th>252345</th>\n",
       "      <td>2017</td>\n",
       "      <td>Yes, I program as a hobby</td>\n",
       "      <td>51282.05128</td>\n",
       "      <td>Denmark</td>\n",
       "      <td>Some college/university study without earning ...</td>\n",
       "      <td>Employed part-time</td>\n",
       "      <td>10.0</td>\n",
       "      <td>100 to 499 employees</td>\n",
       "      <td>Computer science</td>\n",
       "      <td>3.0</td>\n",
       "      <td>...</td>\n",
       "      <td>0.0</td>\n",
       "      <td>0.0</td>\n",
       "      <td>0.0</td>\n",
       "      <td>0.0</td>\n",
       "      <td>0.0</td>\n",
       "      <td>0.0</td>\n",
       "      <td>0.0</td>\n",
       "      <td>0.0</td>\n",
       "      <td>0.0</td>\n",
       "      <td>0.0</td>\n",
       "    </tr>\n",
       "    <tr>\n",
       "      <th>252361</th>\n",
       "      <td>2017</td>\n",
       "      <td>No</td>\n",
       "      <td>25000.00000</td>\n",
       "      <td>Israel</td>\n",
       "      <td>Some college/university study without earning ...</td>\n",
       "      <td>Employed full-time</td>\n",
       "      <td>6.0</td>\n",
       "      <td>5,000 to 9,999 employees</td>\n",
       "      <td>Computer science</td>\n",
       "      <td>4.0</td>\n",
       "      <td>...</td>\n",
       "      <td>0.0</td>\n",
       "      <td>0.0</td>\n",
       "      <td>0.0</td>\n",
       "      <td>0.0</td>\n",
       "      <td>0.0</td>\n",
       "      <td>0.0</td>\n",
       "      <td>0.0</td>\n",
       "      <td>0.0</td>\n",
       "      <td>0.0</td>\n",
       "      <td>0.0</td>\n",
       "    </tr>\n",
       "    <tr>\n",
       "      <th>252368</th>\n",
       "      <td>2017</td>\n",
       "      <td>Yes, I program as a hobby</td>\n",
       "      <td>100000.00000</td>\n",
       "      <td>United States</td>\n",
       "      <td>Some college/university study without earning ...</td>\n",
       "      <td>Employed full-time</td>\n",
       "      <td>5.0</td>\n",
       "      <td>20 to 99 employees</td>\n",
       "      <td>Computer science</td>\n",
       "      <td>15.0</td>\n",
       "      <td>...</td>\n",
       "      <td>0.0</td>\n",
       "      <td>0.0</td>\n",
       "      <td>0.0</td>\n",
       "      <td>0.0</td>\n",
       "      <td>0.0</td>\n",
       "      <td>0.0</td>\n",
       "      <td>0.0</td>\n",
       "      <td>0.0</td>\n",
       "      <td>0.0</td>\n",
       "      <td>0.0</td>\n",
       "    </tr>\n",
       "    <tr>\n",
       "      <th>252372</th>\n",
       "      <td>2017</td>\n",
       "      <td>Yes, both</td>\n",
       "      <td>27000.00000</td>\n",
       "      <td>Ukraine</td>\n",
       "      <td>Master's degree</td>\n",
       "      <td>Employed full-time</td>\n",
       "      <td>7.0</td>\n",
       "      <td>100 to 499 employees</td>\n",
       "      <td>Computer science</td>\n",
       "      <td>5.0</td>\n",
       "      <td>...</td>\n",
       "      <td>0.0</td>\n",
       "      <td>0.0</td>\n",
       "      <td>0.0</td>\n",
       "      <td>0.0</td>\n",
       "      <td>0.0</td>\n",
       "      <td>0.0</td>\n",
       "      <td>0.0</td>\n",
       "      <td>0.0</td>\n",
       "      <td>0.0</td>\n",
       "      <td>0.0</td>\n",
       "    </tr>\n",
       "  </tbody>\n",
       "</table>\n",
       "<p>5 rows × 160 columns</p>\n",
       "</div>"
      ],
      "text/plain": [
       "        Year                   Hobbyist  ConvertedComp         Country  \\\n",
       "252342  2017                  Yes, both    43750.00000  United Kingdom   \n",
       "252345  2017  Yes, I program as a hobby    51282.05128         Denmark   \n",
       "252361  2017                         No    25000.00000          Israel   \n",
       "252368  2017  Yes, I program as a hobby   100000.00000   United States   \n",
       "252372  2017                  Yes, both    27000.00000         Ukraine   \n",
       "\n",
       "                                                  EdLevel          Employment  \\\n",
       "252342                                  Bachelor's degree  Employed full-time   \n",
       "252345  Some college/university study without earning ...  Employed part-time   \n",
       "252361  Some college/university study without earning ...  Employed full-time   \n",
       "252368  Some college/university study without earning ...  Employed full-time   \n",
       "252372                                    Master's degree  Employed full-time   \n",
       "\n",
       "        JobSat                   OrgSize    UndergradMajor  YearsCodePro  ...  \\\n",
       "252342     4.0          2 to 9 employees  Computer science           2.0  ...   \n",
       "252345    10.0      100 to 499 employees  Computer science           3.0  ...   \n",
       "252361     6.0  5,000 to 9,999 employees  Computer science           4.0  ...   \n",
       "252368     5.0        20 to 99 employees  Computer science          15.0  ...   \n",
       "252372     7.0      100 to 499 employees  Computer science           5.0  ...   \n",
       "\n",
       "        Bash/Shell/PowerShell  CSS  Cobol  Delphi/Object Pascal  HTML  \\\n",
       "252342                    0.0  0.0    0.0                   0.0   0.0   \n",
       "252345                    0.0  0.0    0.0                   0.0   0.0   \n",
       "252361                    0.0  0.0    0.0                   0.0   0.0   \n",
       "252368                    0.0  0.0    0.0                   0.0   0.0   \n",
       "252372                    0.0  0.0    0.0                   0.0   0.0   \n",
       "\n",
       "        HTML/CSS  Kotlin  Ocaml  Other(s):  WebAssembly  \n",
       "252342       0.0     0.0    0.0        0.0          0.0  \n",
       "252345       0.0     0.0    0.0        0.0          0.0  \n",
       "252361       0.0     0.0    0.0        0.0          0.0  \n",
       "252368       0.0     0.0    0.0        0.0          0.0  \n",
       "252372       0.0     0.0    0.0        0.0          0.0  \n",
       "\n",
       "[5 rows x 160 columns]"
      ]
     },
     "execution_count": 46,
     "metadata": {},
     "output_type": "execute_result"
    }
   ],
   "source": [
    "df_all = pd.concat([df, dm_dev_type, dm_db_nextyear, dm_db_work, dm_language_nextyear, dm_language_work],\n",
    "                   axis=1, join='inner')\n",
    "# export the data\n",
    "filename = 'stack.csv'\n",
    "df_all.to_csv(filename, index=False)\n",
    "# df\n",
    "df_all.head()"
   ]
  },
  {
   "cell_type": "code",
   "execution_count": 47,
   "metadata": {},
   "outputs": [
    {
     "data": {
      "text/plain": [
       "0"
      ]
     },
     "execution_count": 47,
     "metadata": {},
     "output_type": "execute_result"
    }
   ],
   "source": [
    "#final number of missing values\n",
    "df_all.isna().sum().sum()"
   ]
  },
  {
   "cell_type": "markdown",
   "metadata": {},
   "source": []
  },
  {
   "cell_type": "markdown",
   "metadata": {},
   "source": [
    "## 1. What is the impact of education major on salary"
   ]
  },
  {
   "cell_type": "code",
   "execution_count": null,
   "metadata": {},
   "outputs": [],
   "source": [
    "# Use normal dataframe\n",
    "df.head()"
   ]
  },
  {
   "cell_type": "markdown",
   "metadata": {},
   "source": [
    "## 2. What is the impact of Job type on salary"
   ]
  },
  {
   "cell_type": "code",
   "execution_count": null,
   "metadata": {},
   "outputs": [],
   "source": [
    "df_job = pd.concat([df, dm_dev_type],\n",
    "                   axis=1, join='inner')\n",
    "df_job.head()"
   ]
  },
  {
   "cell_type": "markdown",
   "metadata": {},
   "source": [
    "## 3. What is the impact of Year of experience on Salary"
   ]
  },
  {
   "cell_type": "code",
   "execution_count": null,
   "metadata": {},
   "outputs": [],
   "source": [
    "# Use normal dataframe\n",
    "df.head()"
   ]
  },
  {
   "cell_type": "markdown",
   "metadata": {},
   "source": [
    "## 4. What is the impact of Programming language on Salary"
   ]
  },
  {
   "cell_type": "code",
   "execution_count": null,
   "metadata": {},
   "outputs": [],
   "source": [
    "# concat programming language features together\n",
    "df_p_language = pd.concat([df, dm_db_nextyear, dm_db_work,  dm_language_nextyear, dm_language_work],\n",
    "                   axis=1, join='inner')\n",
    "df_p_language.head()"
   ]
  }
 ],
 "metadata": {
  "kernelspec": {
   "display_name": "Python 3",
   "language": "python",
   "name": "python3"
  },
  "language_info": {
   "codemirror_mode": {
    "name": "ipython",
    "version": 3
   },
   "file_extension": ".py",
   "mimetype": "text/x-python",
   "name": "python",
   "nbconvert_exporter": "python",
   "pygments_lexer": "ipython3",
   "version": "3.8.5"
  }
 },
 "nbformat": 4,
 "nbformat_minor": 4
}
